{
 "cells": [
  {
   "cell_type": "markdown",
   "metadata": {},
   "source": [
    "**Этот набор данных взят из KaggleСсылки на внешний сайт. и содержит показатели сотрудников, такие как уровень удовлетворенности, количество завершенных проектов, время, проведенное в компании, и количество рекламных акций. В гипотетическом сценарии мы могли бы использовать эти данные, чтобы определить, имеет ли сотрудник право на премию. Этот набор данных имеет четыре переменные, каждая из которых использует разные числовые масштабы и единицы измерения. Если мы хотим использовать этот набор данных для модели нейронной сети, нам нужно стандартизировать эти переменные, в противном случае вполне вероятно, что \"Satisfaction_Level\" (который колеблется от 0 до 1) будет недооценен по сравнению с \"Time_Spent\" (который колеблется примерно от 50 до 4800 часов). Давайте начнем с добавления следующего кода в блокнот:**"
   ]
  },
  {
   "cell_type": "code",
   "execution_count": 1,
   "metadata": {},
   "outputs": [
    {
     "data": {
      "text/html": [
       "<div>\n",
       "<style scoped>\n",
       "    .dataframe tbody tr th:only-of-type {\n",
       "        vertical-align: middle;\n",
       "    }\n",
       "\n",
       "    .dataframe tbody tr th {\n",
       "        vertical-align: top;\n",
       "    }\n",
       "\n",
       "    .dataframe thead th {\n",
       "        text-align: right;\n",
       "    }\n",
       "</style>\n",
       "<table border=\"1\" class=\"dataframe\">\n",
       "  <thead>\n",
       "    <tr style=\"text-align: right;\">\n",
       "      <th></th>\n",
       "      <th>Satisfaction_Level</th>\n",
       "      <th>Num_Projects</th>\n",
       "      <th>Time_Spent</th>\n",
       "      <th>Num_Promotions</th>\n",
       "    </tr>\n",
       "  </thead>\n",
       "  <tbody>\n",
       "    <tr>\n",
       "      <th>0</th>\n",
       "      <td>0.30</td>\n",
       "      <td>1</td>\n",
       "      <td>253</td>\n",
       "      <td>2</td>\n",
       "    </tr>\n",
       "    <tr>\n",
       "      <th>1</th>\n",
       "      <td>0.25</td>\n",
       "      <td>1</td>\n",
       "      <td>200</td>\n",
       "      <td>0</td>\n",
       "    </tr>\n",
       "    <tr>\n",
       "      <th>2</th>\n",
       "      <td>0.90</td>\n",
       "      <td>4</td>\n",
       "      <td>2880</td>\n",
       "      <td>5</td>\n",
       "    </tr>\n",
       "    <tr>\n",
       "      <th>3</th>\n",
       "      <td>0.65</td>\n",
       "      <td>3</td>\n",
       "      <td>1450</td>\n",
       "      <td>3</td>\n",
       "    </tr>\n",
       "    <tr>\n",
       "      <th>4</th>\n",
       "      <td>0.50</td>\n",
       "      <td>2</td>\n",
       "      <td>785</td>\n",
       "      <td>2</td>\n",
       "    </tr>\n",
       "  </tbody>\n",
       "</table>\n",
       "</div>"
      ],
      "text/plain": [
       "   Satisfaction_Level  Num_Projects  Time_Spent  Num_Promotions\n",
       "0                0.30             1         253               2\n",
       "1                0.25             1         200               0\n",
       "2                0.90             4        2880               5\n",
       "3                0.65             3        1450               3\n",
       "4                0.50             2         785               2"
      ]
     },
     "execution_count": 1,
     "metadata": {},
     "output_type": "execute_result"
    }
   ],
   "source": [
    "# Import our dependencies\n",
    "import pandas as pd\n",
    "from sklearn.preprocessing import StandardScaler\n",
    "\n",
    "# Read in our dataset\n",
    "hr_df = pd.read_csv(\"hr_dataset.csv\")\n",
    "hr_df.head()"
   ]
  },
  {
   "cell_type": "markdown",
   "metadata": {},
   "source": [
    "**Чтобы применить нашу стандартизацию, нам нужно создать экземпляр StandardScaler, добавив и выполнив следующий код:**"
   ]
  },
  {
   "cell_type": "code",
   "execution_count": 2,
   "metadata": {},
   "outputs": [],
   "source": [
    "# Create the StandardScaler instance\n",
    "scaler = StandardScaler()"
   ]
  },
  {
   "cell_type": "markdown",
   "metadata": {},
   "source": [
    "**Как только у нас появится экземпляр StandardScaler, нам нужно будет соответствовать входным данным, добавив и запустив следующую строку кода:**"
   ]
  },
  {
   "cell_type": "code",
   "execution_count": 3,
   "metadata": {},
   "outputs": [
    {
     "data": {
      "text/plain": [
       "StandardScaler()"
      ]
     },
     "execution_count": 3,
     "metadata": {},
     "output_type": "execute_result"
    }
   ],
   "source": [
    "# Fit the StandardScaler\n",
    "scaler.fit(hr_df)"
   ]
  },
  {
   "cell_type": "markdown",
   "metadata": {},
   "source": [
    "**After our StandardScaler instance is fitted with the numerical data, we can transform and standardize the dataset using the following code:**"
   ]
  },
  {
   "cell_type": "code",
   "execution_count": 4,
   "metadata": {},
   "outputs": [],
   "source": [
    "# Scale the data\n",
    "scaled_data = scaler.transform(hr_df)"
   ]
  },
  {
   "cell_type": "markdown",
   "metadata": {},
   "source": [
    "**Наконец, как только мы получим преобразованные данные в экземпляре *StandardScaler*, мы должны экспортировать преобразованные данные в Pandas DataFrame. Опять же, мы должны добавить и запустить следующий код в наши блокноты:**"
   ]
  },
  {
   "cell_type": "code",
   "execution_count": 5,
   "metadata": {},
   "outputs": [
    {
     "data": {
      "text/html": [
       "<div>\n",
       "<style scoped>\n",
       "    .dataframe tbody tr th:only-of-type {\n",
       "        vertical-align: middle;\n",
       "    }\n",
       "\n",
       "    .dataframe tbody tr th {\n",
       "        vertical-align: top;\n",
       "    }\n",
       "\n",
       "    .dataframe thead th {\n",
       "        text-align: right;\n",
       "    }\n",
       "</style>\n",
       "<table border=\"1\" class=\"dataframe\">\n",
       "  <thead>\n",
       "    <tr style=\"text-align: right;\">\n",
       "      <th></th>\n",
       "      <th>Satisfaction_Level</th>\n",
       "      <th>Num_Projects</th>\n",
       "      <th>Time_Spent</th>\n",
       "      <th>Num_Promotions</th>\n",
       "    </tr>\n",
       "  </thead>\n",
       "  <tbody>\n",
       "    <tr>\n",
       "      <th>0</th>\n",
       "      <td>-1.303615</td>\n",
       "      <td>-1.162476</td>\n",
       "      <td>-1.049481</td>\n",
       "      <td>-0.558656</td>\n",
       "    </tr>\n",
       "    <tr>\n",
       "      <th>1</th>\n",
       "      <td>-1.512945</td>\n",
       "      <td>-1.162476</td>\n",
       "      <td>-1.094603</td>\n",
       "      <td>-1.804887</td>\n",
       "    </tr>\n",
       "    <tr>\n",
       "      <th>2</th>\n",
       "      <td>1.208335</td>\n",
       "      <td>0.860233</td>\n",
       "      <td>1.187080</td>\n",
       "      <td>1.310692</td>\n",
       "    </tr>\n",
       "    <tr>\n",
       "      <th>3</th>\n",
       "      <td>0.161689</td>\n",
       "      <td>0.185996</td>\n",
       "      <td>-0.030385</td>\n",
       "      <td>0.064460</td>\n",
       "    </tr>\n",
       "    <tr>\n",
       "      <th>4</th>\n",
       "      <td>-0.466299</td>\n",
       "      <td>-0.488240</td>\n",
       "      <td>-0.596549</td>\n",
       "      <td>-0.558656</td>\n",
       "    </tr>\n",
       "  </tbody>\n",
       "</table>\n",
       "</div>"
      ],
      "text/plain": [
       "   Satisfaction_Level  Num_Projects  Time_Spent  Num_Promotions\n",
       "0           -1.303615     -1.162476   -1.049481       -0.558656\n",
       "1           -1.512945     -1.162476   -1.094603       -1.804887\n",
       "2            1.208335      0.860233    1.187080        1.310692\n",
       "3            0.161689      0.185996   -0.030385        0.064460\n",
       "4           -0.466299     -0.488240   -0.596549       -0.558656"
      ]
     },
     "execution_count": 5,
     "metadata": {},
     "output_type": "execute_result"
    }
   ],
   "source": [
    "# Create a DataFrame with the scaled data\n",
    "transformed_scaled_data = pd.DataFrame(scaled_data, columns=hr_df.columns)\n",
    "transformed_scaled_data.head()"
   ]
  },
  {
   "cell_type": "markdown",
   "metadata": {},
   "source": [
    "**Глядя на результаты нашего преобразования, все переменные теперь стандартизированы со средним значением 0 и стандартным отклонением 1. Теперь данные готовы к передаче в нашу модель нейронной сети.**"
   ]
  },
  {
   "cell_type": "code",
   "execution_count": null,
   "metadata": {},
   "outputs": [],
   "source": []
  },
  {
   "cell_type": "code",
   "execution_count": null,
   "metadata": {},
   "outputs": [],
   "source": []
  }
 ],
 "metadata": {
  "kernelspec": {
   "display_name": "Python 3.7.13 ('mlenv')",
   "language": "python",
   "name": "python3"
  },
  "language_info": {
   "codemirror_mode": {
    "name": "ipython",
    "version": 3
   },
   "file_extension": ".py",
   "mimetype": "text/x-python",
   "name": "python",
   "nbconvert_exporter": "python",
   "pygments_lexer": "ipython3",
   "version": "3.7.13"
  },
  "orig_nbformat": 4,
  "vscode": {
   "interpreter": {
    "hash": "7f48e098df2936069eb02f55b28918a3fc26e676acbb06ef38d904d73dc1646f"
   }
  }
 },
 "nbformat": 4,
 "nbformat_minor": 2
}
